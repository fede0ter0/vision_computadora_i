{
 "cells": [
  {
   "cell_type": "markdown",
   "metadata": {},
   "source": [
    "<img src=\"https://github.com/hernancontigiani/ceia_memorias_especializacion/raw/master/Figures/logoFIUBA.jpg\" width=\"500\" align=\"center\">\n",
    "\n",
    "\n",
    "# Visión por Computadora I\n",
    "## TP 1 - Parte I"
   ]
  },
  {
   "cell_type": "markdown",
   "metadata": {},
   "source": [
    "Las imágenes se encuentran en `/white_patch` y `/coord_cromaticas`:\n",
    "\n",
    "1. Implementar el algoritmo de pasaje a coordenadas cromáticas para librarnos de las variaciones de contraste.\n",
    "2. Implementar el algoritmo White Patch para librarnos de las diferencias de color de iluminación.\n",
    "3. Mostrar los resultados obtenidos y analizar las posibles fallas (si es que las hay) en el caso de White\n",
    "patch."
   ]
  },
  {
   "cell_type": "code",
   "execution_count": null,
   "metadata": {},
   "outputs": [],
   "source": []
  }
 ],
 "metadata": {
  "language_info": {
   "name": "python"
  }
 },
 "nbformat": 4,
 "nbformat_minor": 2
}
